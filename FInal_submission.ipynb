{
 "cells": [
  {
   "cell_type": "markdown",
   "metadata": {},
   "source": [
    "# <center>ML Assignment 1</center>"
   ]
  },
  {
   "cell_type": "markdown",
   "metadata": {},
   "source": [
    "### <center> Rathin Bhargava (IMT2017522), Brahma Kulkarni (IMT2017012), Vaishnavi Dhulipalla (IMT2017514) </center>"
   ]
  },
  {
   "cell_type": "markdown",
   "metadata": {},
   "source": [
    "# 1. Introduction"
   ]
  },
  {
   "cell_type": "markdown",
   "metadata": {},
   "source": [
    "* Importing all required libraries\n",
    "* Reading dataset csv file into a Pandas dataframe\n",
    "* Creating a list of the features we wish to consider for training\n",
    "* initializing an dictionary, called 'get' that stores the means and standard deviations of elements of columns that we aren't excluding"
   ]
  },
  {
   "cell_type": "code",
   "execution_count": 2,
   "metadata": {},
   "outputs": [
    {
     "name": "stdout",
     "output_type": "stream",
     "text": [
      "(768, 9)\n"
     ]
    }
   ],
   "source": [
    "import pandas as pd\n",
    "import numpy as np\n",
    "import matplotlib.pyplot as plt\n",
    "import seaborn as sns\n",
    "from random import *\n",
    "from math import *\n",
    "from sklearn import metrics\n",
    "from sklearn.linear_model import LogisticRegression\n",
    "from sklearn.model_selection import train_test_split\n",
    "%matplotlib inline\n",
    "df = pd.read_csv('Pima_Indian_diabetes.csv')\n",
    "# s = \"Pregnancies Glucose SkinThickness BloodPressure Insulin BMI DiabetesPedigreeFunction Age\"\n",
    "s = \"Pregnancies Glucose Insulin SkinThickness BMI DiabetesPedigreeFunction Age BloodPressure\"\n",
    "feature = s.split()\n",
    "# df.head()\n",
    "get = {}\n",
    "print(df.shape) #to view the dimensions of the dataset (rows, columns) "
   ]
  },
  {
   "cell_type": "markdown",
   "metadata": {},
   "source": [
    "This stat function returns a tuple of mean and standard deviation of a given array"
   ]
  },
  {
   "cell_type": "code",
   "execution_count": 2,
   "metadata": {},
   "outputs": [],
   "source": [
    "def stat(l):\n",
    "    mean = sum(l)/len(l)\n",
    "    sd = sqrt(sum([(x-mean)**2 for x in l])/len(l))\n",
    "    return (mean,sd)"
   ]
  },
  {
   "cell_type": "markdown",
   "metadata": {},
   "source": [
    "# 2. Missing Data Analysis"
   ]
  },
  {
   "cell_type": "markdown",
   "metadata": {},
   "source": [
    "For every feature, we plot the frequency histogram to get a better idea of the data we are dealing with. We then decide what rows to include and what not to. We then calculate the mean and standard deviations of the non-excluded columns and store them in the 'get' dictionary. We may impute values for some columns if needed. That has been explained in the next section."
   ]
  },
  {
   "cell_type": "markdown",
   "metadata": {},
   "source": [
    "1. Pregnancies - We plan to exclude negative pregnancies as that simply doesn't make sense."
   ]
  },
  {
   "cell_type": "code",
   "execution_count": 3,
   "metadata": {},
   "outputs": [
    {
     "data": {
      "text/plain": [
       "count    742.000000\n",
       "mean       3.866601\n",
       "std        3.479971\n",
       "min       -5.412815\n",
       "25%        1.000000\n",
       "50%        3.000000\n",
       "75%        6.000000\n",
       "max       17.000000\n",
       "Name: Pregnancies, dtype: float64"
      ]
     },
     "execution_count": 3,
     "metadata": {},
     "output_type": "execute_result"
    },
    {
     "data": {
      "image/png": "[encoded data removed]",
      "text/plain": [
       "<Figure size 432x288 with 1 Axes>"
      ]
     },
     "metadata": {
      "needs_background": "light"
     },
     "output_type": "display_data"
    }
   ],
   "source": [
    "l = [x for x in df['Pregnancies'] if x >= 0]\n",
    "get['Pregnancies'] = stat(l)\n",
    "\n",
    "\n",
    "plot1 = df['Pregnancies']\n",
    "plot1.plot.hist(grid=True, bins=20, rwidth=0.9, color='#607c8e')\n",
    "plt.xlabel('Pregnancies')\n",
    "plt.grid(axis='y', alpha=0.75)\n",
    "\n",
    "df['Pregnancies'].describe()\n",
    "#replace missing values with median"
   ]
  },
  {
   "cell_type": "markdown",
   "metadata": {},
   "source": [
    "Seeing the histogram, we have decided to impute missing values with the median as it doesn't seem to change the underlying distribution."
   ]
  },
  {
   "cell_type": "markdown",
   "metadata": {},
   "source": [
    " 2 . Glucose -  We plan to impute non-positive glucose values as they aren't practical"
   ]
  },
  {
   "cell_type": "code",
   "execution_count": 4,
   "metadata": {
    "scrolled": true
   },
   "outputs": [
    {
     "data": {
      "text/plain": [
       "count    752.000000\n",
       "mean     119.966097\n",
       "std       32.367659\n",
       "min        0.000000\n",
       "25%       99.000000\n",
       "50%      116.000000\n",
       "75%      140.000000\n",
       "max      199.000000\n",
       "Name: Glucose, dtype: float64"
      ]
     },
     "execution_count": 4,
     "metadata": {},
     "output_type": "execute_result"
    },
    {
     "data": {
      "image/png": "[encoded data removed]",
      "text/plain": [
       "<Figure size 432x288 with 1 Axes>"
      ]
     },
     "metadata": {
      "needs_background": "light"
     },
     "output_type": "display_data"
    }
   ],
   "source": [
    "l = [x for x in df['Glucose'] if x > 0]\n",
    "get['Glucose'] = stat(l)\n",
    "\n",
    "plot1 = df['Glucose']\n",
    "plot1.plot.hist(grid=True, bins=20, rwidth=0.9, color='#607c8e')\n",
    "plt.xlabel('Glucose')\n",
    "plt.grid(axis='y', alpha=0.75)\n",
    "\n",
    "df['Glucose'].describe()\n",
    "\n",
    "#Above 200 is generally diabetic\n",
    "#gaussian"
   ]
  },
  {
   "cell_type": "markdown",
   "metadata": {},
   "source": [
    "As we can see from the histogram, the distribution is more or less a gaussian. Hence, we decided to impute missing values based on the corresponding gaussian."
   ]
  },
  {
   "cell_type": "markdown",
   "metadata": {},
   "source": [
    "3 . BloodPressure - We decide to impute the values less than 0 as they cannot be correct"
   ]
  },
  {
   "cell_type": "code",
   "execution_count": 5,
   "metadata": {},
   "outputs": [
    {
     "data": {
      "text/plain": [
       "count    768.000000\n",
       "mean      68.886078\n",
       "std       19.427448\n",
       "min       -3.496455\n",
       "25%       62.000000\n",
       "50%       72.000000\n",
       "75%       80.000000\n",
       "max      122.000000\n",
       "Name: BloodPressure, dtype: float64"
      ]
     },
     "execution_count": 5,
     "metadata": {},
     "output_type": "execute_result"
    },
    {
     "data": {
      "image/png": "[encoded data removed]",
      "text/plain": [
       "<Figure size 432x288 with 1 Axes>"
      ]
     },
     "metadata": {
      "needs_background": "light"
     },
     "output_type": "display_data"
    }
   ],
   "source": [
    "l = [x for x in df['BloodPressure'] if x > 0]\n",
    "get['BloodPressure'] = stat(l)\n",
    "\n",
    "plot1 = df['BloodPressure']\n",
    "plot1.plot.hist(grid=True, bins=20, rwidth=0.9, color='#607c8e')\n",
    "plt.xlabel('BloodPressure')\n",
    "plt.grid(axis='y', alpha=0.75)\n",
    "\n",
    "df['BloodPressure'].describe()\n",
    "#remove below 0"
   ]
  },
  {
   "cell_type": "markdown",
   "metadata": {},
   "source": [
    "No imputation is required as there are no missing values."
   ]
  },
  {
   "cell_type": "markdown",
   "metadata": {},
   "source": [
    "4 . We plan to impute non-positive skin thickness values as the thickness of skin has to be more than zero"
   ]
  },
  {
   "cell_type": "code",
   "execution_count": 6,
   "metadata": {},
   "outputs": [
    {
     "data": {
      "text/plain": [
       "count    746.000000\n",
       "mean      20.309879\n",
       "std       15.974523\n",
       "min      -11.945520\n",
       "25%        0.000000\n",
       "50%       23.000000\n",
       "75%       32.000000\n",
       "max       99.000000\n",
       "Name: SkinThickness, dtype: float64"
      ]
     },
     "execution_count": 6,
     "metadata": {},
     "output_type": "execute_result"
    },
    {
     "data": {
      "image/png": "[encoded data removed]",
      "text/plain": [
       "<Figure size 432x288 with 1 Axes>"
      ]
     },
     "metadata": {
      "needs_background": "light"
     },
     "output_type": "display_data"
    }
   ],
   "source": [
    "l = [x for x in df['SkinThickness'] if x > 0]\n",
    "get['SkinThickness'] = stat(l)\n",
    "\n",
    "plot1 = df['SkinThickness']\n",
    "plot1.plot.hist(grid=True, bins=20, rwidth=0.9, color='#607c8e')\n",
    "plt.xlabel('SkinThickness')\n",
    "plt.grid(axis='y', alpha=0.75)\n",
    "\n",
    "df['SkinThickness'].describe()\n",
    "#remove below zero, keep 0\n",
    "#gaussian"
   ]
  },
  {
   "cell_type": "markdown",
   "metadata": {},
   "source": [
    "As we can see from the histogram, the distribution is more or less a gaussian. Hence, we decided to impute missing values based on the corresponding gaussian"
   ]
  },
  {
   "cell_type": "markdown",
   "metadata": {},
   "source": [
    "5 . We plan to impute non-positive insulin readings as they just cannot be correct"
   ]
  },
  {
   "cell_type": "code",
   "execution_count": 7,
   "metadata": {},
   "outputs": [
    {
     "data": {
      "text/html": [
       "<div>\n",
       "<style scoped>\n",
       "    .dataframe tbody tr th:only-of-type {\n",
       "        vertical-align: middle;\n",
       "    }\n",
       "\n",
       "    .dataframe tbody tr th {\n",
       "        vertical-align: top;\n",
       "    }\n",
       "\n",
       "    .dataframe thead th {\n",
       "        text-align: right;\n",
       "    }\n",
       "</style>\n",
       "<table border=\"1\" class=\"dataframe\">\n",
       "  <thead>\n",
       "    <tr style=\"text-align: right;\">\n",
       "      <th></th>\n",
       "      <th>0</th>\n",
       "    </tr>\n",
       "  </thead>\n",
       "  <tbody>\n",
       "    <tr>\n",
       "      <td>count</td>\n",
       "      <td>394.000000</td>\n",
       "    </tr>\n",
       "    <tr>\n",
       "      <td>mean</td>\n",
       "      <td>155.548223</td>\n",
       "    </tr>\n",
       "    <tr>\n",
       "      <td>std</td>\n",
       "      <td>118.775855</td>\n",
       "    </tr>\n",
       "    <tr>\n",
       "      <td>min</td>\n",
       "      <td>14.000000</td>\n",
       "    </tr>\n",
       "    <tr>\n",
       "      <td>25%</td>\n",
       "      <td>76.250000</td>\n",
       "    </tr>\n",
       "    <tr>\n",
       "      <td>50%</td>\n",
       "      <td>125.000000</td>\n",
       "    </tr>\n",
       "    <tr>\n",
       "      <td>75%</td>\n",
       "      <td>190.000000</td>\n",
       "    </tr>\n",
       "    <tr>\n",
       "      <td>max</td>\n",
       "      <td>846.000000</td>\n",
       "    </tr>\n",
       "  </tbody>\n",
       "</table>\n",
       "</div>"
      ],
      "text/plain": [
       "                0\n",
       "count  394.000000\n",
       "mean   155.548223\n",
       "std    118.775855\n",
       "min     14.000000\n",
       "25%     76.250000\n",
       "50%    125.000000\n",
       "75%    190.000000\n",
       "max    846.000000"
      ]
     },
     "execution_count": 7,
     "metadata": {},
     "output_type": "execute_result"
    },
    {
     "data": {
      "image/png": "[encoded data removed]",
      "text/plain": [
       "<Figure size 432x288 with 1 Axes>"
      ]
     },
     "metadata": {
      "needs_background": "light"
     },
     "output_type": "display_data"
    }
   ],
   "source": [
    "l = [x for x in df['Insulin'] if x > 0]\n",
    "df2 = pd.DataFrame(l)\n",
    "get['Insulin'] = stat(l)\n",
    "\n",
    "m = [x for x in df['Insulin'] if x == 0]\n",
    "\n",
    "plot1 = df2\n",
    "plot1.plot.hist(grid=True, bins=20, rwidth=0.9, color='#607c8e')\n",
    "plt.xlabel('Insulin')\n",
    "plt.grid(axis='y', alpha=0.75)\n",
    "\n",
    "df2.describe()\n",
    "\n",
    "# gaussian"
   ]
  },
  {
   "cell_type": "markdown",
   "metadata": {},
   "source": [
    "As we can see from the histogram, we assume that the distribution is more or less a gaussian if half the rows with a value zero were inputted correctly. Thus, we impute the values based on the underlying gaussian distribution. "
   ]
  },
  {
   "cell_type": "markdown",
   "metadata": {},
   "source": [
    "6 . We plan to impute BMI values lower than 15 as on extensive reading we found that the lowest ever BMI value for a person was 13.6"
   ]
  },
  {
   "cell_type": "code",
   "execution_count": 8,
   "metadata": {},
   "outputs": [
    {
     "data": {
      "text/plain": [
       "count    757.000000\n",
       "mean      31.711151\n",
       "std        8.544789\n",
       "min      -16.288921\n",
       "25%       27.100000\n",
       "50%       32.000000\n",
       "75%       36.500000\n",
       "max       67.100000\n",
       "Name: BMI, dtype: float64"
      ]
     },
     "execution_count": 8,
     "metadata": {},
     "output_type": "execute_result"
    },
    {
     "data": {
      "image/png": "[encoded data removed]",
      "text/plain": [
       "<Figure size 432x288 with 1 Axes>"
      ]
     },
     "metadata": {
      "needs_background": "light"
     },
     "output_type": "display_data"
    }
   ],
   "source": [
    "l = [x for x in df['BMI'] if x >=15]\n",
    "get['BMI'] = stat(l)\n",
    "\n",
    "plot1 = df['BMI']\n",
    "plot1.plot.hist(grid=True, bins=20, rwidth=0.9, color='#607c8e')\n",
    "plt.xlabel('BMI')\n",
    "plt.grid(axis='y', alpha=0.75)\n",
    "\n",
    "df['BMI'].describe()\n",
    "#remove below 15\n",
    "#gaussian"
   ]
  },
  {
   "cell_type": "markdown",
   "metadata": {},
   "source": [
    "As we can see from the histogram, the distribution is more or less a gaussian. Hence, we decided to impute missing values based on the corresponding gaussian"
   ]
  },
  {
   "cell_type": "markdown",
   "metadata": {},
   "source": [
    "7 . No changes were made to the DiabetesPedigreeFunction values"
   ]
  },
  {
   "cell_type": "code",
   "execution_count": 9,
   "metadata": {
    "scrolled": true
   },
   "outputs": [
    {
     "data": {
      "text/plain": [
       "count    768.000000\n",
       "mean       0.471876\n",
       "std        0.331329\n",
       "min        0.078000\n",
       "25%        0.243750\n",
       "50%        0.372500\n",
       "75%        0.626250\n",
       "max        2.420000\n",
       "Name: DiabetesPedigreeFunction, dtype: float64"
      ]
     },
     "execution_count": 9,
     "metadata": {},
     "output_type": "execute_result"
    },
    {
     "data": {
      "image/png": "[encoded data removed]",
      "text/plain": [
       "<Figure size 432x288 with 1 Axes>"
      ]
     },
     "metadata": {
      "needs_background": "light"
     },
     "output_type": "display_data"
    }
   ],
   "source": [
    "l = [x for x in df['DiabetesPedigreeFunction'] if x > 0]\n",
    "get['DiabetesPedigreeFunction'] = stat(l)\n",
    "\n",
    "plot1 = df['DiabetesPedigreeFunction']\n",
    "plot1.plot.hist(grid=True, bins=20, rwidth=0.9, color='#607c8e')\n",
    "plt.xlabel('DiabetesPedigreeFunction')\n",
    "plt.grid(axis='y', alpha=0.75)\n",
    "\n",
    "df['DiabetesPedigreeFunction'].describe()"
   ]
  },
  {
   "cell_type": "markdown",
   "metadata": {},
   "source": [
    "No imputation is required as there are no missing values."
   ]
  },
  {
   "cell_type": "markdown",
   "metadata": {},
   "source": [
    "8 . No changes were made to the Age values"
   ]
  },
  {
   "cell_type": "code",
   "execution_count": 10,
   "metadata": {},
   "outputs": [
    {
     "data": {
      "text/plain": [
       "count    749.000000\n",
       "mean      33.761336\n",
       "std       12.297409\n",
       "min       21.000000\n",
       "25%       24.000000\n",
       "50%       29.000000\n",
       "75%       41.000000\n",
       "max       81.000000\n",
       "Name: Age, dtype: float64"
      ]
     },
     "execution_count": 10,
     "metadata": {},
     "output_type": "execute_result"
    },
    {
     "data": {
      "image/png": "[encoded data removed]",
      "text/plain": [
       "<Figure size 432x288 with 1 Axes>"
      ]
     },
     "metadata": {
      "needs_background": "light"
     },
     "output_type": "display_data"
    }
   ],
   "source": [
    "l = [x for x in df['Age'] if x > 0]\n",
    "get['Age'] = stat(l)\n",
    "\n",
    "plot1 = df['Age']\n",
    "plot1.plot.hist(grid=True, bins=20, rwidth=0.9, color='#607c8e')\n",
    "plt.xlabel('Age')\n",
    "plt.grid(axis='y', alpha=0.75)\n",
    "\n",
    "df['Age'].describe()\n",
    "#no change\n",
    "#mean"
   ]
  },
  {
   "cell_type": "markdown",
   "metadata": {},
   "source": [
    "Seeing the histogram, we have decided to impute missing values with the mean as it doesn't change the underlying distribution."
   ]
  },
  {
   "cell_type": "markdown",
   "metadata": {},
   "source": [
    "## 3. Exploratory Data Analysis"
   ]
  },
  {
   "cell_type": "markdown",
   "metadata": {},
   "source": [
    "### Here we are computing the correlation matrix to see the inter dependencies between the attributes"
   ]
  },
  {
   "cell_type": "code",
   "execution_count": 11,
   "metadata": {},
   "outputs": [
    {
     "data": {
      "text/html": [
       "<style  type=\"text/css\" >\n",
       "    #T_b300d5e0_daac_11e9_8a03_7c67a266bbcerow0_col0 {\n",
       "            background-color:  #662506;\n",
       "            color:  #f1f1f1;\n",
       "        }    #T_b300d5e0_daac_11e9_8a03_7c67a266bbcerow0_col1 {\n",
       "            background-color:  #fffee0;\n",
       "            color:  #000000;\n",
       "        }    #T_b300d5e0_daac_11e9_8a03_7c67a266bbcerow0_col2 {\n",
       "            background-color:  #fffaca;\n",
       "            color:  #000000;\n",
       "        }    #T_b300d5e0_daac_11e9_8a03_7c67a266bbcerow0_col3 {\n",
       "            background-color:  #fffddd;\n",
       "            color:  #000000;\n",
       "        }    #T_b300d5e0_daac_11e9_8a03_7c67a266bbcerow0_col4 {\n",
       "            background-color:  #ffffe5;\n",
       "            color:  #000000;\n",
       "        }    #T_b300d5e0_daac_11e9_8a03_7c67a266bbcerow0_col5 {\n",
       "            background-color:  #ffffe5;\n",
       "            color:  #000000;\n",
       "        }    #T_b300d5e0_daac_11e9_8a03_7c67a266bbcerow0_col6 {\n",
       "            background-color:  #ffffe5;\n",
       "            color:  #000000;\n",
       "        }    #T_b300d5e0_daac_11e9_8a03_7c67a266bbcerow0_col7 {\n",
       "            background-color:  #fb9225;\n",
       "            color:  #000000;\n",
       "        }    #T_b300d5e0_daac_11e9_8a03_7c67a266bbcerow0_col8 {\n",
       "            background-color:  #fff5b8;\n",
       "            color:  #000000;\n",
       "        }    #T_b300d5e0_daac_11e9_8a03_7c67a266bbcerow1_col0 {\n",
       "            background-color:  #fff0ad;\n",
       "            color:  #000000;\n",
       "        }    #T_b300d5e0_daac_11e9_8a03_7c67a266bbcerow1_col1 {\n",
       "            background-color:  #662506;\n",
       "            color:  #f1f1f1;\n",
       "        }    #T_b300d5e0_daac_11e9_8a03_7c67a266bbcerow1_col2 {\n",
       "            background-color:  #fff8c4;\n",
       "            color:  #000000;\n",
       "        }    #T_b300d5e0_daac_11e9_8a03_7c67a266bbcerow1_col3 {\n",
       "            background-color:  #ffefaa;\n",
       "            color:  #000000;\n",
       "        }    #T_b300d5e0_daac_11e9_8a03_7c67a266bbcerow1_col4 {\n",
       "            background-color:  #febf4b;\n",
       "            color:  #000000;\n",
       "        }    #T_b300d5e0_daac_11e9_8a03_7c67a266bbcerow1_col5 {\n",
       "            background-color:  #feeca5;\n",
       "            color:  #000000;\n",
       "        }    #T_b300d5e0_daac_11e9_8a03_7c67a266bbcerow1_col6 {\n",
       "            background-color:  #fff3b2;\n",
       "            color:  #000000;\n",
       "        }    #T_b300d5e0_daac_11e9_8a03_7c67a266bbcerow1_col7 {\n",
       "            background-color:  #fece65;\n",
       "            color:  #000000;\n",
       "        }    #T_b300d5e0_daac_11e9_8a03_7c67a266bbcerow1_col8 {\n",
       "            background-color:  #feaf3d;\n",
       "            color:  #000000;\n",
       "        }    #T_b300d5e0_daac_11e9_8a03_7c67a266bbcerow2_col0 {\n",
       "            background-color:  #feeba2;\n",
       "            color:  #000000;\n",
       "        }    #T_b300d5e0_daac_11e9_8a03_7c67a266bbcerow2_col1 {\n",
       "            background-color:  #ffface;\n",
       "            color:  #000000;\n",
       "        }    #T_b300d5e0_daac_11e9_8a03_7c67a266bbcerow2_col2 {\n",
       "            background-color:  #662506;\n",
       "            color:  #f1f1f1;\n",
       "        }    #T_b300d5e0_daac_11e9_8a03_7c67a266bbcerow2_col3 {\n",
       "            background-color:  #fed87a;\n",
       "            color:  #000000;\n",
       "        }    #T_b300d5e0_daac_11e9_8a03_7c67a266bbcerow2_col4 {\n",
       "            background-color:  #fff0ad;\n",
       "            color:  #000000;\n",
       "        }    #T_b300d5e0_daac_11e9_8a03_7c67a266bbcerow2_col5 {\n",
       "            background-color:  #feda7e;\n",
       "            color:  #000000;\n",
       "        }    #T_b300d5e0_daac_11e9_8a03_7c67a266bbcerow2_col6 {\n",
       "            background-color:  #ffface;\n",
       "            color:  #000000;\n",
       "        }    #T_b300d5e0_daac_11e9_8a03_7c67a266bbcerow2_col7 {\n",
       "            background-color:  #fed26d;\n",
       "            color:  #000000;\n",
       "        }    #T_b300d5e0_daac_11e9_8a03_7c67a266bbcerow2_col8 {\n",
       "            background-color:  #ffffe5;\n",
       "            color:  #000000;\n",
       "        }    #T_b300d5e0_daac_11e9_8a03_7c67a266bbcerow3_col0 {\n",
       "            background-color:  #ffffe5;\n",
       "            color:  #000000;\n",
       "        }    #T_b300d5e0_daac_11e9_8a03_7c67a266bbcerow3_col1 {\n",
       "            background-color:  #ffffe5;\n",
       "            color:  #000000;\n",
       "        }    #T_b300d5e0_daac_11e9_8a03_7c67a266bbcerow3_col2 {\n",
       "            background-color:  #ffefac;\n",
       "            color:  #000000;\n",
       "        }    #T_b300d5e0_daac_11e9_8a03_7c67a266bbcerow3_col3 {\n",
       "            background-color:  #662506;\n",
       "            color:  #f1f1f1;\n",
       "        }    #T_b300d5e0_daac_11e9_8a03_7c67a266bbcerow3_col4 {\n",
       "            background-color:  #fe9f2e;\n",
       "            color:  #000000;\n",
       "        }    #T_b300d5e0_daac_11e9_8a03_7c67a266bbcerow3_col5 {\n",
       "            background-color:  #febf4b;\n",
       "            color:  #000000;\n",
       "        }    #T_b300d5e0_daac_11e9_8a03_7c67a266bbcerow3_col6 {\n",
       "            background-color:  #fee99e;\n",
       "            color:  #000000;\n",
       "        }    #T_b300d5e0_daac_11e9_8a03_7c67a266bbcerow3_col7 {\n",
       "            background-color:  #ffffe5;\n",
       "            color:  #000000;\n",
       "        }    #T_b300d5e0_daac_11e9_8a03_7c67a266bbcerow3_col8 {\n",
       "            background-color:  #fffddd;\n",
       "            color:  #000000;\n",
       "        }    #T_b300d5e0_daac_11e9_8a03_7c67a266bbcerow4_col0 {\n",
       "            background-color:  #ffffe5;\n",
       "            color:  #000000;\n",
       "        }    #T_b300d5e0_daac_11e9_8a03_7c67a266bbcerow4_col1 {\n",
       "            background-color:  #fedd84;\n",
       "            color:  #000000;\n",
       "        }    #T_b300d5e0_daac_11e9_8a03_7c67a266bbcerow4_col2 {\n",
       "            background-color:  #fffcd4;\n",
       "            color:  #000000;\n",
       "        }    #T_b300d5e0_daac_11e9_8a03_7c67a266bbcerow4_col3 {\n",
       "            background-color:  #fe9a2a;\n",
       "            color:  #000000;\n",
       "        }    #T_b300d5e0_daac_11e9_8a03_7c67a266bbcerow4_col4 {\n",
       "            background-color:  #662506;\n",
       "            color:  #f1f1f1;\n",
       "        }    #T_b300d5e0_daac_11e9_8a03_7c67a266bbcerow4_col5 {\n",
       "            background-color:  #feeca4;\n",
       "            color:  #000000;\n",
       "        }    #T_b300d5e0_daac_11e9_8a03_7c67a266bbcerow4_col6 {\n",
       "            background-color:  #fee99e;\n",
       "            color:  #000000;\n",
       "        }    #T_b300d5e0_daac_11e9_8a03_7c67a266bbcerow4_col7 {\n",
       "            background-color:  #fffbd0;\n",
       "            color:  #000000;\n",
       "        }    #T_b300d5e0_daac_11e9_8a03_7c67a266bbcerow4_col8 {\n",
       "            background-color:  #ffface;\n",
       "            color:  #000000;\n",
       "        }    #T_b300d5e0_daac_11e9_8a03_7c67a266bbcerow5_col0 {\n",
       "            background-color:  #fffacd;\n",
       "            color:  #000000;\n",
       "        }    #T_b300d5e0_daac_11e9_8a03_7c67a266bbcerow5_col1 {\n",
       "            background-color:  #fff8c0;\n",
       "            color:  #000000;\n",
       "        }    #T_b300d5e0_daac_11e9_8a03_7c67a266bbcerow5_col2 {\n",
       "            background-color:  #fee493;\n",
       "            color:  #000000;\n",
       "        }    #T_b300d5e0_daac_11e9_8a03_7c67a266bbcerow5_col3 {\n",
       "            background-color:  #feaa38;\n",
       "            color:  #000000;\n",
       "        }    #T_b300d5e0_daac_11e9_8a03_7c67a266bbcerow5_col4 {\n",
       "            background-color:  #fee18c;\n",
       "            color:  #000000;\n",
       "        }    #T_b300d5e0_daac_11e9_8a03_7c67a266bbcerow5_col5 {\n",
       "            background-color:  #662506;\n",
       "            color:  #f1f1f1;\n",
       "        }    #T_b300d5e0_daac_11e9_8a03_7c67a266bbcerow5_col6 {\n",
       "            background-color:  #ffefac;\n",
       "            color:  #000000;\n",
       "        }    #T_b300d5e0_daac_11e9_8a03_7c67a266bbcerow5_col7 {\n",
       "            background-color:  #fff6ba;\n",
       "            color:  #000000;\n",
       "        }    #T_b300d5e0_daac_11e9_8a03_7c67a266bbcerow5_col8 {\n",
       "            background-color:  #fee697;\n",
       "            color:  #000000;\n",
       "        }    #T_b300d5e0_daac_11e9_8a03_7c67a266bbcerow6_col0 {\n",
       "            background-color:  #fffbd3;\n",
       "            color:  #000000;\n",
       "        }    #T_b300d5e0_daac_11e9_8a03_7c67a266bbcerow6_col1 {\n",
       "            background-color:  #fffbd3;\n",
       "            color:  #000000;\n",
       "        }    #T_b300d5e0_daac_11e9_8a03_7c67a266bbcerow6_col2 {\n",
       "            background-color:  #ffffe5;\n",
       "            color:  #000000;\n",
       "        }    #T_b300d5e0_daac_11e9_8a03_7c67a266bbcerow6_col3 {\n",
       "            background-color:  #fedd84;\n",
       "            color:  #000000;\n",
       "        }    #T_b300d5e0_daac_11e9_8a03_7c67a266bbcerow6_col4 {\n",
       "            background-color:  #fee28e;\n",
       "            color:  #000000;\n",
       "        }    #T_b300d5e0_daac_11e9_8a03_7c67a266bbcerow6_col5 {\n",
       "            background-color:  #fff2b1;\n",
       "            color:  #000000;\n",
       "        }    #T_b300d5e0_daac_11e9_8a03_7c67a266bbcerow6_col6 {\n",
       "            background-color:  #662506;\n",
       "            color:  #f1f1f1;\n",
       "        }    #T_b300d5e0_daac_11e9_8a03_7c67a266bbcerow6_col7 {\n",
       "            background-color:  #fff4b5;\n",
       "            color:  #000000;\n",
       "        }    #T_b300d5e0_daac_11e9_8a03_7c67a266bbcerow6_col8 {\n",
       "            background-color:  #fff7be;\n",
       "            color:  #000000;\n",
       "        }    #T_b300d5e0_daac_11e9_8a03_7c67a266bbcerow7_col0 {\n",
       "            background-color:  #fd9627;\n",
       "            color:  #000000;\n",
       "        }    #T_b300d5e0_daac_11e9_8a03_7c67a266bbcerow7_col1 {\n",
       "            background-color:  #feeca5;\n",
       "            color:  #000000;\n",
       "        }    #T_b300d5e0_daac_11e9_8a03_7c67a266bbcerow7_col2 {\n",
       "            background-color:  #feeba2;\n",
       "            color:  #000000;\n",
       "        }    #T_b300d5e0_daac_11e9_8a03_7c67a266bbcerow7_col3 {\n",
       "            background-color:  #ffffe5;\n",
       "            color:  #000000;\n",
       "        }    #T_b300d5e0_daac_11e9_8a03_7c67a266bbcerow7_col4 {\n",
       "            background-color:  #fffcd8;\n",
       "            color:  #000000;\n",
       "        }    #T_b300d5e0_daac_11e9_8a03_7c67a266bbcerow7_col5 {\n",
       "            background-color:  #fffdd9;\n",
       "            color:  #000000;\n",
       "        }    #T_b300d5e0_daac_11e9_8a03_7c67a266bbcerow7_col6 {\n",
       "            background-color:  #ffface;\n",
       "            color:  #000000;\n",
       "        }    #T_b300d5e0_daac_11e9_8a03_7c67a266bbcerow7_col7 {\n",
       "            background-color:  #662506;\n",
       "            color:  #f1f1f1;\n",
       "        }    #T_b300d5e0_daac_11e9_8a03_7c67a266bbcerow7_col8 {\n",
       "            background-color:  #fff1b0;\n",
       "            color:  #000000;\n",
       "        }    #T_b300d5e0_daac_11e9_8a03_7c67a266bbcerow8_col0 {\n",
       "            background-color:  #fedf88;\n",
       "            color:  #000000;\n",
       "        }    #T_b300d5e0_daac_11e9_8a03_7c67a266bbcerow8_col1 {\n",
       "            background-color:  #feb23f;\n",
       "            color:  #000000;\n",
       "        }    #T_b300d5e0_daac_11e9_8a03_7c67a266bbcerow8_col2 {\n",
       "            background-color:  #fffddd;\n",
       "            color:  #000000;\n",
       "        }    #T_b300d5e0_daac_11e9_8a03_7c67a266bbcerow8_col3 {\n",
       "            background-color:  #feeda6;\n",
       "            color:  #000000;\n",
       "        }    #T_b300d5e0_daac_11e9_8a03_7c67a266bbcerow8_col4 {\n",
       "            background-color:  #feeaa0;\n",
       "            color:  #000000;\n",
       "        }    #T_b300d5e0_daac_11e9_8a03_7c67a266bbcerow8_col5 {\n",
       "            background-color:  #fed97c;\n",
       "            color:  #000000;\n",
       "        }    #T_b300d5e0_daac_11e9_8a03_7c67a266bbcerow8_col6 {\n",
       "            background-color:  #feeba2;\n",
       "            color:  #000000;\n",
       "        }    #T_b300d5e0_daac_11e9_8a03_7c67a266bbcerow8_col7 {\n",
       "            background-color:  #fed676;\n",
       "            color:  #000000;\n",
       "        }    #T_b300d5e0_daac_11e9_8a03_7c67a266bbcerow8_col8 {\n",
       "            background-color:  #662506;\n",
       "            color:  #f1f1f1;\n",
       "        }</style><table id=\"T_b300d5e0_daac_11e9_8a03_7c67a266bbce\" ><thead>    <tr>        <th class=\"blank level0\" ></th>        <th class=\"col_heading level0 col0\" >Pregnancies</th>        <th class=\"col_heading level0 col1\" >Glucose</th>        <th class=\"col_heading level0 col2\" >BloodPressure</th>        <th class=\"col_heading level0 col3\" >SkinThickness</th>        <th class=\"col_heading level0 col4\" >Insulin</th>        <th class=\"col_heading level0 col5\" >BMI</th>        <th class=\"col_heading level0 col6\" >DiabetesPedigreeFunction</th>        <th class=\"col_heading level0 col7\" >Age</th>        <th class=\"col_heading level0 col8\" >Outcome</th>    </tr></thead><tbody>\n",
       "                <tr>\n",
       "                        <th id=\"T_b300d5e0_daac_11e9_8a03_7c67a266bbcelevel0_row0\" class=\"row_heading level0 row0\" >Pregnancies</th>\n",
       "                        <td id=\"T_b300d5e0_daac_11e9_8a03_7c67a266bbcerow0_col0\" class=\"data row0 col0\" >1</td>\n",
       "                        <td id=\"T_b300d5e0_daac_11e9_8a03_7c67a266bbcerow0_col1\" class=\"data row0 col1\" >0.0890994</td>\n",
       "                        <td id=\"T_b300d5e0_daac_11e9_8a03_7c67a266bbcerow0_col2\" class=\"data row0 col2\" >0.122399</td>\n",
       "                        <td id=\"T_b300d5e0_daac_11e9_8a03_7c67a266bbcerow0_col3\" class=\"data row0 col3\" >-0.0995139</td>\n",
       "                        <td id=\"T_b300d5e0_daac_11e9_8a03_7c67a266bbcerow0_col4\" class=\"data row0 col4\" >-0.0969645</td>\n",
       "                        <td id=\"T_b300d5e0_daac_11e9_8a03_7c67a266bbcerow0_col5\" class=\"data row0 col5\" >-0.0154301</td>\n",
       "                        <td id=\"T_b300d5e0_daac_11e9_8a03_7c67a266bbcerow0_col6\" class=\"data row0 col6\" >-0.035988</td>\n",
       "                        <td id=\"T_b300d5e0_daac_11e9_8a03_7c67a266bbcerow0_col7\" class=\"data row0 col7\" >0.461788</td>\n",
       "                        <td id=\"T_b300d5e0_daac_11e9_8a03_7c67a266bbcerow0_col8\" class=\"data row0 col8\" >0.194147</td>\n",
       "            </tr>\n",
       "            <tr>\n",
       "                        <th id=\"T_b300d5e0_daac_11e9_8a03_7c67a266bbcelevel0_row1\" class=\"row_heading level0 row1\" >Glucose</th>\n",
       "                        <td id=\"T_b300d5e0_daac_11e9_8a03_7c67a266bbcerow1_col0\" class=\"data row1 col0\" >0.0890994</td>\n",
       "                        <td id=\"T_b300d5e0_daac_11e9_8a03_7c67a266bbcerow1_col1\" class=\"data row1 col1\" >1</td>\n",
       "                        <td id=\"T_b300d5e0_daac_11e9_8a03_7c67a266bbcerow1_col2\" class=\"data row1 col2\" >0.139863</td>\n",
       "                        <td id=\"T_b300d5e0_daac_11e9_8a03_7c67a266bbcerow1_col3\" class=\"data row1 col3\" >0.0726417</td>\n",
       "                        <td id=\"T_b300d5e0_daac_11e9_8a03_7c67a266bbcerow1_col4\" class=\"data row1 col4\" >0.329784</td>\n",
       "                        <td id=\"T_b300d5e0_daac_11e9_8a03_7c67a266bbcerow1_col5\" class=\"data row1 col5\" >0.179681</td>\n",
       "                        <td id=\"T_b300d5e0_daac_11e9_8a03_7c67a266bbcerow1_col6\" class=\"data row1 col6\" >0.124182</td>\n",
       "                        <td id=\"T_b300d5e0_daac_11e9_8a03_7c67a266bbcerow1_col7\" class=\"data row1 col7\" >0.250379</td>\n",
       "                        <td id=\"T_b300d5e0_daac_11e9_8a03_7c67a266bbcerow1_col8\" class=\"data row1 col8\" >0.469506</td>\n",
       "            </tr>\n",
       "            <tr>\n",
       "                        <th id=\"T_b300d5e0_daac_11e9_8a03_7c67a266bbcelevel0_row2\" class=\"row_heading level0 row2\" >BloodPressure</th>\n",
       "                        <td id=\"T_b300d5e0_daac_11e9_8a03_7c67a266bbcerow2_col0\" class=\"data row2 col0\" >0.122399</td>\n",
       "                        <td id=\"T_b300d5e0_daac_11e9_8a03_7c67a266bbcerow2_col1\" class=\"data row2 col1\" >0.139863</td>\n",
       "                        <td id=\"T_b300d5e0_daac_11e9_8a03_7c67a266bbcerow2_col2\" class=\"data row2 col2\" >1</td>\n",
       "                        <td id=\"T_b300d5e0_daac_11e9_8a03_7c67a266bbcerow2_col3\" class=\"data row2 col3\" >0.207191</td>\n",
       "                        <td id=\"T_b300d5e0_daac_11e9_8a03_7c67a266bbcerow2_col4\" class=\"data row2 col4\" >0.0891479</td>\n",
       "                        <td id=\"T_b300d5e0_daac_11e9_8a03_7c67a266bbcerow2_col5\" class=\"data row2 col5\" >0.274645</td>\n",
       "                        <td id=\"T_b300d5e0_daac_11e9_8a03_7c67a266bbcerow2_col6\" class=\"data row2 col6\" >0.0399594</td>\n",
       "                        <td id=\"T_b300d5e0_daac_11e9_8a03_7c67a266bbcerow2_col7\" class=\"data row2 col7\" >0.231473</td>\n",
       "                        <td id=\"T_b300d5e0_daac_11e9_8a03_7c67a266bbcerow2_col8\" class=\"data row2 col8\" >0.0628176</td>\n",
       "            </tr>\n",
       "            <tr>\n",
       "                        <th id=\"T_b300d5e0_daac_11e9_8a03_7c67a266bbcelevel0_row3\" class=\"row_heading level0 row3\" >SkinThickness</th>\n",
       "                        <td id=\"T_b300d5e0_daac_11e9_8a03_7c67a266bbcerow3_col0\" class=\"data row3 col0\" >-0.0995139</td>\n",
       "                        <td id=\"T_b300d5e0_daac_11e9_8a03_7c67a266bbcerow3_col1\" class=\"data row3 col1\" >0.0726417</td>\n",
       "                        <td id=\"T_b300d5e0_daac_11e9_8a03_7c67a266bbcerow3_col2\" class=\"data row3 col2\" >0.207191</td>\n",
       "                        <td id=\"T_b300d5e0_daac_11e9_8a03_7c67a266bbcerow3_col3\" class=\"data row3 col3\" >1</td>\n",
       "                        <td id=\"T_b300d5e0_daac_11e9_8a03_7c67a266bbcerow3_col4\" class=\"data row3 col4\" >0.43267</td>\n",
       "                        <td id=\"T_b300d5e0_daac_11e9_8a03_7c67a266bbcerow3_col5\" class=\"data row3 col5\" >0.381212</td>\n",
       "                        <td id=\"T_b300d5e0_daac_11e9_8a03_7c67a266bbcerow3_col6\" class=\"data row3 col6\" >0.183684</td>\n",
       "                        <td id=\"T_b300d5e0_daac_11e9_8a03_7c67a266bbcerow3_col7\" class=\"data row3 col7\" >-0.126011</td>\n",
       "                        <td id=\"T_b300d5e0_daac_11e9_8a03_7c67a266bbcerow3_col8\" class=\"data row3 col8\" >0.0853659</td>\n",
       "            </tr>\n",
       "            <tr>\n",
       "                        <th id=\"T_b300d5e0_daac_11e9_8a03_7c67a266bbcelevel0_row4\" class=\"row_heading level0 row4\" >Insulin</th>\n",
       "                        <td id=\"T_b300d5e0_daac_11e9_8a03_7c67a266bbcerow4_col0\" class=\"data row4 col0\" >-0.0969645</td>\n",
       "                        <td id=\"T_b300d5e0_daac_11e9_8a03_7c67a266bbcerow4_col1\" class=\"data row4 col1\" >0.329784</td>\n",
       "                        <td id=\"T_b300d5e0_daac_11e9_8a03_7c67a266bbcerow4_col2\" class=\"data row4 col2\" >0.0891479</td>\n",
       "                        <td id=\"T_b300d5e0_daac_11e9_8a03_7c67a266bbcerow4_col3\" class=\"data row4 col3\" >0.43267</td>\n",
       "                        <td id=\"T_b300d5e0_daac_11e9_8a03_7c67a266bbcerow4_col4\" class=\"data row4 col4\" >1</td>\n",
       "                        <td id=\"T_b300d5e0_daac_11e9_8a03_7c67a266bbcerow4_col5\" class=\"data row4 col5\" >0.186688</td>\n",
       "                        <td id=\"T_b300d5e0_daac_11e9_8a03_7c67a266bbcerow4_col6\" class=\"data row4 col6\" >0.185071</td>\n",
       "                        <td id=\"T_b300d5e0_daac_11e9_8a03_7c67a266bbcerow4_col7\" class=\"data row4 col7\" >-0.0516003</td>\n",
       "                        <td id=\"T_b300d5e0_daac_11e9_8a03_7c67a266bbcerow4_col8\" class=\"data row4 col8\" >0.130548</td>\n",
       "            </tr>\n",
       "            <tr>\n",
       "                        <th id=\"T_b300d5e0_daac_11e9_8a03_7c67a266bbcelevel0_row5\" class=\"row_heading level0 row5\" >BMI</th>\n",
       "                        <td id=\"T_b300d5e0_daac_11e9_8a03_7c67a266bbcerow5_col0\" class=\"data row5 col0\" >-0.0154301</td>\n",
       "                        <td id=\"T_b300d5e0_daac_11e9_8a03_7c67a266bbcerow5_col1\" class=\"data row5 col1\" >0.179681</td>\n",
       "                        <td id=\"T_b300d5e0_daac_11e9_8a03_7c67a266bbcerow5_col2\" class=\"data row5 col2\" >0.274645</td>\n",
       "                        <td id=\"T_b300d5e0_daac_11e9_8a03_7c67a266bbcerow5_col3\" class=\"data row5 col3\" >0.381212</td>\n",
       "                        <td id=\"T_b300d5e0_daac_11e9_8a03_7c67a266bbcerow5_col4\" class=\"data row5 col4\" >0.186688</td>\n",
       "                        <td id=\"T_b300d5e0_daac_11e9_8a03_7c67a266bbcerow5_col5\" class=\"data row5 col5\" >1</td>\n",
       "                        <td id=\"T_b300d5e0_daac_11e9_8a03_7c67a266bbcerow5_col6\" class=\"data row5 col6\" >0.145734</td>\n",
       "                        <td id=\"T_b300d5e0_daac_11e9_8a03_7c67a266bbcerow5_col7\" class=\"data row5 col7\" >0.0209178</td>\n",
       "                        <td id=\"T_b300d5e0_daac_11e9_8a03_7c67a266bbcerow5_col8\" class=\"data row5 col8\" >0.279651</td>\n",
       "            </tr>\n",
       "            <tr>\n",
       "                        <th id=\"T_b300d5e0_daac_11e9_8a03_7c67a266bbcelevel0_row6\" class=\"row_heading level0 row6\" >DiabetesPedigreeFunction</th>\n",
       "                        <td id=\"T_b300d5e0_daac_11e9_8a03_7c67a266bbcerow6_col0\" class=\"data row6 col0\" >-0.035988</td>\n",
       "                        <td id=\"T_b300d5e0_daac_11e9_8a03_7c67a266bbcerow6_col1\" class=\"data row6 col1\" >0.124182</td>\n",
       "                        <td id=\"T_b300d5e0_daac_11e9_8a03_7c67a266bbcerow6_col2\" class=\"data row6 col2\" >0.0399594</td>\n",
       "                        <td id=\"T_b300d5e0_daac_11e9_8a03_7c67a266bbcerow6_col3\" class=\"data row6 col3\" >0.183684</td>\n",
       "                        <td id=\"T_b300d5e0_daac_11e9_8a03_7c67a266bbcerow6_col4\" class=\"data row6 col4\" >0.185071</td>\n",
       "                        <td id=\"T_b300d5e0_daac_11e9_8a03_7c67a266bbcerow6_col5\" class=\"data row6 col5\" >0.145734</td>\n",
       "                        <td id=\"T_b300d5e0_daac_11e9_8a03_7c67a266bbcerow6_col6\" class=\"data row6 col6\" >1</td>\n",
       "                        <td id=\"T_b300d5e0_daac_11e9_8a03_7c67a266bbcerow6_col7\" class=\"data row6 col7\" >0.0375535</td>\n",
       "                        <td id=\"T_b300d5e0_daac_11e9_8a03_7c67a266bbcerow6_col8\" class=\"data row6 col8\" >0.173844</td>\n",
       "            </tr>\n",
       "            <tr>\n",
       "                        <th id=\"T_b300d5e0_daac_11e9_8a03_7c67a266bbcelevel0_row7\" class=\"row_heading level0 row7\" >Age</th>\n",
       "                        <td id=\"T_b300d5e0_daac_11e9_8a03_7c67a266bbcerow7_col0\" class=\"data row7 col0\" >0.461788</td>\n",
       "                        <td id=\"T_b300d5e0_daac_11e9_8a03_7c67a266bbcerow7_col1\" class=\"data row7 col1\" >0.250379</td>\n",
       "                        <td id=\"T_b300d5e0_daac_11e9_8a03_7c67a266bbcerow7_col2\" class=\"data row7 col2\" >0.231473</td>\n",
       "                        <td id=\"T_b300d5e0_daac_11e9_8a03_7c67a266bbcerow7_col3\" class=\"data row7 col3\" >-0.126011</td>\n",
       "                        <td id=\"T_b300d5e0_daac_11e9_8a03_7c67a266bbcerow7_col4\" class=\"data row7 col4\" >-0.0516003</td>\n",
       "                        <td id=\"T_b300d5e0_daac_11e9_8a03_7c67a266bbcerow7_col5\" class=\"data row7 col5\" >0.0209178</td>\n",
       "                        <td id=\"T_b300d5e0_daac_11e9_8a03_7c67a266bbcerow7_col6\" class=\"data row7 col6\" >0.0375535</td>\n",
       "                        <td id=\"T_b300d5e0_daac_11e9_8a03_7c67a266bbcerow7_col7\" class=\"data row7 col7\" >1</td>\n",
       "                        <td id=\"T_b300d5e0_daac_11e9_8a03_7c67a266bbcerow7_col8\" class=\"data row7 col8\" >0.216095</td>\n",
       "            </tr>\n",
       "            <tr>\n",
       "                        <th id=\"T_b300d5e0_daac_11e9_8a03_7c67a266bbcelevel0_row8\" class=\"row_heading level0 row8\" >Outcome</th>\n",
       "                        <td id=\"T_b300d5e0_daac_11e9_8a03_7c67a266bbcerow8_col0\" class=\"data row8 col0\" >0.194147</td>\n",
       "                        <td id=\"T_b300d5e0_daac_11e9_8a03_7c67a266bbcerow8_col1\" class=\"data row8 col1\" >0.469506</td>\n",
       "                        <td id=\"T_b300d5e0_daac_11e9_8a03_7c67a266bbcerow8_col2\" class=\"data row8 col2\" >0.0628176</td>\n",
       "                        <td id=\"T_b300d5e0_daac_11e9_8a03_7c67a266bbcerow8_col3\" class=\"data row8 col3\" >0.0853659</td>\n",
       "                        <td id=\"T_b300d5e0_daac_11e9_8a03_7c67a266bbcerow8_col4\" class=\"data row8 col4\" >0.130548</td>\n",
       "                        <td id=\"T_b300d5e0_daac_11e9_8a03_7c67a266bbcerow8_col5\" class=\"data row8 col5\" >0.279651</td>\n",
       "                        <td id=\"T_b300d5e0_daac_11e9_8a03_7c67a266bbcerow8_col6\" class=\"data row8 col6\" >0.173844</td>\n",
       "                        <td id=\"T_b300d5e0_daac_11e9_8a03_7c67a266bbcerow8_col7\" class=\"data row8 col7\" >0.216095</td>\n",
       "                        <td id=\"T_b300d5e0_daac_11e9_8a03_7c67a266bbcerow8_col8\" class=\"data row8 col8\" >1</td>\n",
       "            </tr>\n",
       "    </tbody></table>"
      ],
      "text/plain": [
       "<pandas.io.formats.style.Styler at 0x7fa748dc8cc0>"
      ]
     },
     "execution_count": 11,
     "metadata": {},
     "output_type": "execute_result"
    }
   ],
   "source": [
    "corr = df.corr()\n",
    "corr.style.background_gradient(cmap='YlOrBr')"
   ]
  },
  {
   "cell_type": "markdown",
   "metadata": {},
   "source": [
    "### Here we are just separating out the correlation with respect to the 'Outcome' and sorting them in descending order"
   ]
  },
  {
   "cell_type": "code",
   "execution_count": 12,
   "metadata": {},
   "outputs": [
    {
     "data": {
      "text/plain": [
       "Outcome                     1.000000\n",
       "Glucose                     0.469506\n",
       "BMI                         0.279651\n",
       "Age                         0.216095\n",
       "Pregnancies                 0.194147\n",
       "DiabetesPedigreeFunction    0.173844\n",
       "Insulin                     0.130548\n",
       "SkinThickness               0.085366\n",
       "BloodPressure               0.062818\n",
       "Name: Outcome, dtype: float64"
      ]
     },
     "execution_count": 12,
     "metadata": {},
     "output_type": "execute_result"
    }
   ],
   "source": [
    "df.corr()['Outcome'].sort_values(ascending = False)"
   ]
  },
  {
   "cell_type": "markdown",
   "metadata": {},
   "source": [
    "From the above covariances, it is clear that 'BloodPressure' is related the least to 'Outcome'. Hence, we have decided to drop it from consideration and have updated the 'features' list in the first cell accordingly"
   ]
  },
  {
   "cell_type": "markdown",
   "metadata": {},
   "source": [
    "As seen from the correlation matrix above, no absolute correlation value is greater than 0.5. Due to such low values, we didn't think that PCA would help in improving our model. To establish this, during experimentation, we tried applying PCA to reduce the dimensions to 4,6 and 8 dimensions and we got accuracies of less than 60%. Hence, we decided not to employ PCA after all. "
   ]
  },
  {
   "cell_type": "code",
   "execution_count": 13,
   "metadata": {},
   "outputs": [],
   "source": [
    "def PCA(feature,train,test):\n",
    "    global df \n",
    "    from sklearn.preprocessing import StandardScaler\n",
    "    from sklearn.decomposition import PCA\n",
    "    \n",
    "\n",
    "    X_train = train.loc[:,feature]\n",
    "    Y_train = train.loc[:,['Outcome']]\n",
    "    X_test = test.loc[:,feature]\n",
    "    Y_test = test.loc[:,['Outcome']]\n",
    "    \n",
    "    X_train = StandardScaler().fit_transform(X_train)\n",
    "    X_test = StandardScaler().fit_transform(X_test)\n",
    "    \n",
    "  \n",
    "    noDimensions = 5\n",
    "    pca = PCA(n_components = noDimensions)\n",
    "    pca.fit(X_train)\n",
    "    PC_train = pca.transform(X_train)\n",
    "    PC_test = pca.transform(X_test)\n",
    "    \n",
    "    columns = ['principal components'+ str(i) for i in range(1,noDimensions+1)]\n",
    "    X_train = pd.DataFrame(columns = columns, data = PC_train)\n",
    "    X_test = pd.DataFrame(columns = columns, data = PC_test)\n",
    "    final_train = X_train.copy(deep = True)\n",
    "    final_train['Outcome'] = Y_train\n",
    "    final_test = X_test.copy(deep = True)\n",
    "    final_test['Outcome'] = Y_test\n",
    "    return (final_train,final_test,columns)"
   ]
  },
  {
   "cell_type": "markdown",
   "metadata": {},
   "source": [
    "We tried different methods,and many didn't work. In one of them, we tried plotting boxplots of different features vs outcome, and tried making certain observations. For example, take age vs outcome. We could see that 50% of people who had diabetes had an age greater than 32 and 25% of those who didn't have diabetes had an age greater than 32. Thus, we thought that there's a higher chance that someone has diabetes given that their age is greater than 32. Hence, we thought of adding a separate feature which was 1,if the age was >=32, and 0 if it was lesser than 32. However, probability doesn't work that way. P(Outcome | Age) is not P(Age | Outcome) and thus we removed changed our entire code. "
   ]
  },
  {
   "cell_type": "markdown",
   "metadata": {},
   "source": [
    "### This function alone performs all the data preprocessing for our dataset. The following changes to the dataset are made using this function:\n",
    "* Null and negative values of pregnancies are imputed to the median which is 3\n",
    "* Null and less than 15 values of BMI are imputed based on the corresponding gaussian\n",
    "* Null and non-positive values of glucose are imputed based on the corresponding gaussian distribution\n",
    "* Null and non-positive values of SkinThickness are imputed based on the corresponding gaussian distribution\n",
    "* Null and non-positive values of Insulin are imputed based on the corresponding gaussian distribution and Insulin values are upper bounded to 420 as on extensive reading we found that anythin above this value would be fatal to health.\n",
    "* Null and non-positive values of Age are imputed based on the corresponding gaussian distribution"
   ]
  },
  {
   "cell_type": "code",
   "execution_count": 14,
   "metadata": {},
   "outputs": [],
   "source": [
    "def Process(feature):\n",
    "    #Mean +- SD\n",
    "    global df\n",
    "\n",
    "\n",
    "    df['Pregnancies'].fillna(3,inplace = True)\n",
    "    df['Pregnancies'].replace(df['Pregnancies']<0,3)\n",
    "    \n",
    "   \n",
    "    df['BMI'].fillna(get['BMI'][0] + (random()*2-1)*get['BMI'][1],inplace = True)\n",
    "    df['BMI'].replace(df['BMI'] <= 15,get['BMI'][0] + (random()*2-1)*get['BMI'][1])\n",
    "    \n",
    "   \n",
    "    df['Glucose'].fillna(get['Glucose'][0] + (random()*2-1)*get['Glucose'][1],inplace = True)\n",
    "    df['Glucose'].replace(df['Glucose'] <=0,get['Glucose'][0] + (random()*2-1)*get['Glucose'][1])\n",
    "    \n",
    "   \n",
    "    df['SkinThickness'].fillna(get['SkinThickness'][0] + (random()*2-1)*get['SkinThickness'][1],inplace = True)\n",
    "    df['SkinThickness'].replace(df['SkinThickness'] <= 0,get['SkinThickness'][0] + (random()*2-1)*get['SkinThickness'][1])\n",
    "    \n",
    "   \n",
    "    df.Insulin = [min(x,420) for x in list(df.Insulin)]\n",
    "    df['Insulin'].fillna(get['Insulin'][0] + (random()*2-1)*get['Insulin'][1],inplace = True)\n",
    "    df['Insulin'].replace(df['Insulin'] <= 0,get['Insulin'][0] + (random()*2-1)*get['Insulin'][1])\n",
    "    \n",
    "   \n",
    "    df['Age'].fillna(get['Age'][0] + (random()*2-1)*get['Age'][1],inplace = True)\n",
    "    df['Age'].replace(df['Age'] <= 0,get['Age'][0])\n",
    "\n",
    "   \n",
    "    return df"
   ]
  },
  {
   "cell_type": "code",
   "execution_count": 15,
   "metadata": {},
   "outputs": [],
   "source": [
    "def printConfusionMatrix(X_test, Y_test, logreg, score):\n",
    "    Y_pred = logreg.predict(X_test)\n",
    "    cm = metrics.confusion_matrix(Y_test,Y_pred)\n",
    "\n",
    "    plt.figure(figsize=(12,12))\n",
    "    sns.heatmap(cm, annot=True, fmt=\".3f\", center=True,linewidths=.5, square = True, cmap = 'Blues_r');\n",
    "    plt.ylabel('Actual label');\n",
    "    plt.xlabel('Predicted label');\n",
    "    all_sample_title = 'Accuracy Score: {0}'.format(score)\n",
    "\n",
    "    plt.show()  "
   ]
  },
  {
   "cell_type": "markdown",
   "metadata": {},
   "source": [
    "## 4. Model Building"
   ]
  },
  {
   "cell_type": "markdown",
   "metadata": {},
   "source": [
    "We decided to go ahead with logistic regression as it's an appropriate method to go ahead with when the dependent variable is dichotmous."
   ]
  },
  {
   "cell_type": "code",
   "execution_count": 16,
   "metadata": {},
   "outputs": [],
   "source": [
    "def Log1(feature,k,boo):\n",
    "    df = Process(feature)\n",
    "\n",
    "    df_train,df_test = train_test_split(df,random_state = k)\n",
    "\n",
    "    X_train,Y_train,X_test,Y_test = df_train[feature],df_train['Outcome'],df_test[feature],df_test['Outcome']\n",
    "\n",
    "    logreg = LogisticRegression(solver='liblinear')\n",
    "    logreg.fit(X_train,Y_train)\n",
    "    score_test = logreg.score(X_test,Y_test)\n",
    "    score_training = logreg.score(X_train,Y_train)\n",
    "    \n",
    "    #If we want to see the confusion matrix\n",
    "    if(boo):\n",
    "        printConfusionMatrix(X_test, Y_test, logreg, score_test)\n",
    "\n",
    "    return (score_test,score_training)"
   ]
  },
  {
   "cell_type": "code",
   "execution_count": 17,
   "metadata": {
    "scrolled": false
   },
   "outputs": [
    {
     "data": {
      "image/png": "[encoded data removed]",
      "text/plain": [
       "<Figure size 864x864 with 2 Axes>"
      ]
     },
     "metadata": {
      "needs_background": "light"
     },
     "output_type": "display_data"
    },
    {
     "name": "stdout",
     "output_type": "stream",
     "text": [
      "Test score : 0.7864583333333334 \n",
      "Training score : 0.7708333333333334\n"
     ]
    }
   ],
   "source": [
    "t = Log1(feature,10999,True)\n",
    "print (\"Test score :\",t[0],\"\\nTraining score :\",t[1])"
   ]
  },
  {
   "cell_type": "markdown",
   "metadata": {},
   "source": [
    "We run logistic regression 100 times, and note the distribution of accuracies we get. We've also calculated the max, min and mean of the accuracies. The loop takes a long time to run ( ~ 10 minutes), but it's a good measure to see how good the model is."
   ]
  },
  {
   "cell_type": "code",
   "execution_count": null,
   "metadata": {},
   "outputs": [],
   "source": [
    "l = []\n",
    "m = []\n",
    "max1,max2 = -1,-1\n",
    "min1,min2 = 1e9,1e9\n",
    "\n",
    "for i in range(1,101):\n",
    "    t = Log1(feature,i,False)\n",
    "    l.append(t[0])\n",
    "    m.append(t[1])\n"
   ]
  },
  {
   "cell_type": "code",
   "execution_count": null,
   "metadata": {},
   "outputs": [],
   "source": [
    "print(\"Test-> mean =\",sum(l)/len(l),\" min =\",min(l),\" max =\",max(l))\n",
    "print(\"Training-> mean =\",sum(m)/len(m),\" min =\",min(m),\" max =\",max(m))\n",
    "l1 = pd.DataFrame(l)\n",
    "print(l1.plot.hist())"
   ]
  },
  {
   "cell_type": "code",
   "execution_count": null,
   "metadata": {},
   "outputs": [],
   "source": []
  },
  {
   "cell_type": "code",
   "execution_count": null,
   "metadata": {},
   "outputs": [],
   "source": []
  },
  {
   "cell_type": "code",
   "execution_count": null,
   "metadata": {},
   "outputs": [],
   "source": []
  }
 ],
 "metadata": {
  "kernelspec": {
   "display_name": "Python 3",
   "language": "python",
   "name": "python3"
  },
  "language_info": {
   "codemirror_mode": {
    "name": "ipython",
    "version": 3
   },
   "file_extension": ".py",
   "mimetype": "text/x-python",
   "name": "python",
   "nbconvert_exporter": "python",
   "pygments_lexer": "ipython3",
   "version": "3.6.8"
  }
 },
 "nbformat": 4,
 "nbformat_minor": 2
}
